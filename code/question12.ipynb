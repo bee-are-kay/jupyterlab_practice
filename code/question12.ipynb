{
 "cells": [
  {
   "cell_type": "markdown",
   "id": "4148c778-b84a-4c1a-952b-cfdf70e5ce1a",
   "metadata": {},
   "source": [
    "We are currently working in the following directory:"
   ]
  },
  {
   "cell_type": "code",
   "execution_count": 21,
   "id": "3c22bf75-b5be-48b6-a8da-7edba7cc7457",
   "metadata": {},
   "outputs": [
    {
     "name": "stdout",
     "output_type": "stream",
     "text": [
      "/c/Users/Bethany/Dropbox/DataScienceCertificate/Data_Science_Toolbox/Assignment7/student-a7/jupyterlab_practice\n"
     ]
    }
   ],
   "source": [
    "! pwd"
   ]
  },
  {
   "cell_type": "markdown",
   "id": "0ad6e362-1cf8-466b-a2ab-ad1acc4686f5",
   "metadata": {},
   "source": [
    "To time how long it takes to run a Python cell, we would use the timeit command inside a cell as is shown below:\n",
    "\n",
    "\n",
    "%%timeit\n",
    "\n",
    "for i in range(1_000_000):\n",
    "\n",
    "    i**2"
   ]
  },
  {
   "cell_type": "code",
   "execution_count": 22,
   "id": "022fd32b-0b90-4aa8-811a-92dfddaed56a",
   "metadata": {},
   "outputs": [
    {
     "name": "stdout",
     "output_type": "stream",
     "text": [
      "55.6 ms ± 988 μs per loop (mean ± std. dev. of 7 runs, 10 loops each)\n"
     ]
    }
   ],
   "source": [
    "%%timeit\n",
    "\n",
    "for i in range(1_000_000):\n",
    "    i**2"
   ]
  },
  {
   "cell_type": "code",
   "execution_count": 23,
   "id": "01bae218-5bbb-422f-9977-14d989ed6d91",
   "metadata": {},
   "outputs": [
    {
     "name": "stderr",
     "output_type": "stream",
     "text": [
      "[NbConvertApp] Converting notebook question12.ipynb to html\n",
      "[NbConvertApp] Writing 271568 bytes to question12.html\n"
     ]
    }
   ],
   "source": [
    "!jupyter nbconvert question12.ipynb \\\n",
    "    --to html \\\n",
    "    --output=question12.html \\\n",
    "    --no-input"
   ]
  }
 ],
 "metadata": {
  "kernelspec": {
   "display_name": "Python [conda env:base] *",
   "language": "python",
   "name": "conda-base-py"
  },
  "language_info": {
   "codemirror_mode": {
    "name": "ipython",
    "version": 3
   },
   "file_extension": ".py",
   "mimetype": "text/x-python",
   "name": "python",
   "nbconvert_exporter": "python",
   "pygments_lexer": "ipython3",
   "version": "3.12.3"
  }
 },
 "nbformat": 4,
 "nbformat_minor": 5
}
