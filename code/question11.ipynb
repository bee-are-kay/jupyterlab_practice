{
 "cells": [
  {
   "cell_type": "markdown",
   "id": "774afd94-4d9b-459a-85e5-d3415edf68d4",
   "metadata": {},
   "source": [
    "# Bethany\n",
    "\n",
    "Notebook for assignment 7"
   ]
  },
  {
   "cell_type": "code",
   "execution_count": 3,
   "id": "630a3901-2bf9-4dff-ad2a-ceefe32df0de",
   "metadata": {},
   "outputs": [
    {
     "data": {
      "text/plain": [
       "5.0"
      ]
     },
     "execution_count": 3,
     "metadata": {},
     "output_type": "execute_result"
    }
   ],
   "source": [
    "def compute_mean(list):\n",
    "    start = 0\n",
    "    for i in list:\n",
    "        start = start + i\n",
    "    ans = start / len(list)\n",
    "    return ans\n",
    "\n",
    "compute_mean([1,2,12])"
   ]
  },
  {
   "cell_type": "markdown",
   "id": "76d590f8-9d7b-4a21-959d-75d75ff4f886",
   "metadata": {},
   "source": [
    "The cell above will take the mean of a list of numbers given to the function `compute_mean()`.\n",
    "\n",
    "The formula to compute a mean (x) can be represented as:\n",
    "$$\n",
    "\\overline{\\chi}=\\frac{\\chi_{1}+\\chi_{2}+\\ldots+\\chi_{n}}{n}=\\frac{1}{n} \\left(\\sum_{i=1}^{n}\\chi_{i}\\right)\n",
    "$$"
   ]
  },
  {
   "cell_type": "code",
   "execution_count": null,
   "id": "41b877ee-ea3c-44a3-ac28-4529b978b1bd",
   "metadata": {},
   "outputs": [],
   "source": []
  }
 ],
 "metadata": {
  "kernelspec": {
   "display_name": "Python [conda env:base] *",
   "language": "python",
   "name": "conda-base-py"
  },
  "language_info": {
   "codemirror_mode": {
    "name": "ipython",
    "version": 3
   },
   "file_extension": ".py",
   "mimetype": "text/x-python",
   "name": "python",
   "nbconvert_exporter": "python",
   "pygments_lexer": "ipython3",
   "version": "3.12.3"
  }
 },
 "nbformat": 4,
 "nbformat_minor": 5
}
